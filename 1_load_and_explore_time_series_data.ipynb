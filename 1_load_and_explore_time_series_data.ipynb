{
  "nbformat": 4,
  "nbformat_minor": 0,
  "metadata": {
    "colab": {
      "name": "1-load-and-explore-time-series-data.ipynb",
      "provenance": [],
      "toc_visible": true,
      "authorship_tag": "ABX9TyNt4OZLsJljuAG1wPQiUv3f",
      "include_colab_link": true
    },
    "kernelspec": {
      "name": "python3",
      "display_name": "Python 3"
    }
  },
  "cells": [
    {
      "cell_type": "markdown",
      "metadata": {
        "id": "view-in-github",
        "colab_type": "text"
      },
      "source": [
        "<a href=\"https://colab.research.google.com/github/rahiakela/introduction-to-time-series-forecasting-with-python/blob/part-1-data-preparation/1_load_and_explore_time_series_data.ipynb\" target=\"_parent\"><img src=\"https://colab.research.google.com/assets/colab-badge.svg\" alt=\"Open In Colab\"/></a>"
      ]
    },
    {
      "cell_type": "markdown",
      "metadata": {
        "id": "oC9IIzZYlmnw",
        "colab_type": "text"
      },
      "source": [
        "# Load and Explore Time Series Data"
      ]
    },
    {
      "cell_type": "markdown",
      "metadata": {
        "id": "W-eVNmqFlyHq",
        "colab_type": "text"
      },
      "source": [
        "The Pandas library in Python provides excellent, built-in support for time series data. Once loaded, Pandas also provides tools to explore and better understand your dataset."
      ]
    },
    {
      "cell_type": "markdown",
      "metadata": {
        "id": "FGsN4ejGl_vT",
        "colab_type": "text"
      },
      "source": [
        "## Daily Female Births Dataset"
      ]
    },
    {
      "cell_type": "markdown",
      "metadata": {
        "id": "JKJurYLQmAwS",
        "colab_type": "text"
      },
      "source": [
        "We will use the Daily Female Births Dataset as an example. This dataset describes the number of daily female births in California in 1959.The units are a count and there are 365 observations."
      ]
    },
    {
      "cell_type": "markdown",
      "metadata": {
        "id": "dH5TR3iAmqO5",
        "colab_type": "text"
      },
      "source": [
        "### Load Time Series Data"
      ]
    },
    {
      "cell_type": "markdown",
      "metadata": {
        "id": "-9eBOnesmsMS",
        "colab_type": "text"
      },
      "source": [
        "Pandas represented time series datasets as a Series. A Series1 is a one-dimensional array with a time label for each row. We can load the Daily Female Births dataset directly using the\n",
        "Series class."
      ]
    },
    {
      "cell_type": "code",
      "metadata": {
        "id": "lsiN67BMm0sd",
        "colab_type": "code",
        "colab": {}
      },
      "source": [
        "import pandas as pd\n",
        "import numpy as np\n",
        "from pandas import Series"
      ],
      "execution_count": 0,
      "outputs": []
    },
    {
      "cell_type": "markdown",
      "metadata": {
        "id": "FCzsMJP1o4up",
        "colab_type": "text"
      },
      "source": [
        "Note the arguments to the read csv() function. We provide it a number of hints to ensure the data is loaded as a Series.\n",
        "\n",
        "* **header=0**: We must specify the header information at row 0.\n",
        "* **parse dates=[0]**: We give the function a hint that data in the first column contains dates that need to be parsed. This argument takes a list, so we provide it a list of one element, which is the index of the first column.\n",
        "* **index col=0**: We hint that the first column contains the index information for the time series.\n",
        "* **squeeze=True**: We hint that we only have one data column and that we are interested in a Series and not a DataFrame."
      ]
    },
    {
      "cell_type": "code",
      "metadata": {
        "id": "otno2t4PnBJC",
        "colab_type": "code",
        "colab": {
          "base_uri": "https://localhost:8080/",
          "height": 141
        },
        "outputId": "145e177b-58b0-4abb-a6e5-6f897909e4c0"
      },
      "source": [
        "# load the time series as a Series object, instead of a DataFrame\n",
        "series = pd.read_csv('daily-total-female-births.csv', header=0, parse_dates=[0], index_col=0, squeeze=True)\n",
        "series.head()"
      ],
      "execution_count": 7,
      "outputs": [
        {
          "output_type": "execute_result",
          "data": {
            "text/plain": [
              "date\n",
              "1959-01-01    35\n",
              "1959-01-02    32\n",
              "1959-01-03    30\n",
              "1959-01-04    31\n",
              "1959-01-05    44\n",
              "Name: births, dtype: int64"
            ]
          },
          "metadata": {
            "tags": []
          },
          "execution_count": 7
        }
      ]
    },
    {
      "cell_type": "markdown",
      "metadata": {
        "id": "oaKA-ZZYoPSx",
        "colab_type": "text"
      },
      "source": [
        "The series has a name, which is the column name of the data column. You can see that each row has an associated date. This is in fact not a column, but instead a time index for value.\n",
        "\n",
        "As an index, there can be multiple values for one time, and values may be spaced evenly or unevenly across times."
      ]
    },
    {
      "cell_type": "markdown",
      "metadata": {
        "id": "jgwJQlS1py6m",
        "colab_type": "text"
      },
      "source": [
        "## Exploring Time Series Data"
      ]
    },
    {
      "cell_type": "markdown",
      "metadata": {
        "id": "b44XjaI9p0cN",
        "colab_type": "text"
      },
      "source": [
        "Pandas also provides tools to explore and summarize your time series data."
      ]
    },
    {
      "cell_type": "markdown",
      "metadata": {
        "id": "W6xm-OqNqEQ8",
        "colab_type": "text"
      },
      "source": [
        "### Peek at the Data"
      ]
    },
    {
      "cell_type": "markdown",
      "metadata": {
        "id": "p82aDz4lqF0e",
        "colab_type": "text"
      },
      "source": [
        "It is a good idea to take a peek at your loaded data to confirm that the types, dates, and data loaded as you intended. You can use the head() function to peek at the first 5 records or specify\n",
        "the first n number of records to review."
      ]
    },
    {
      "cell_type": "code",
      "metadata": {
        "id": "9-r1IobInRff",
        "colab_type": "code",
        "colab": {
          "base_uri": "https://localhost:8080/",
          "height": 230
        },
        "outputId": "64f08a28-4b69-4c39-8264-5dc8220d2b9d"
      },
      "source": [
        "# summarize first few lines of a file\n",
        "series.head(10)"
      ],
      "execution_count": 8,
      "outputs": [
        {
          "output_type": "execute_result",
          "data": {
            "text/plain": [
              "date\n",
              "1959-01-01    35\n",
              "1959-01-02    32\n",
              "1959-01-03    30\n",
              "1959-01-04    31\n",
              "1959-01-05    44\n",
              "1959-01-06    29\n",
              "1959-01-07    45\n",
              "1959-01-08    43\n",
              "1959-01-09    38\n",
              "1959-01-10    27\n",
              "Name: births, dtype: int64"
            ]
          },
          "metadata": {
            "tags": []
          },
          "execution_count": 8
        }
      ]
    },
    {
      "cell_type": "markdown",
      "metadata": {
        "id": "oVxJi2Shqfve",
        "colab_type": "text"
      },
      "source": [
        "You can also use the tail() function to get the last n records of the dataset."
      ]
    },
    {
      "cell_type": "code",
      "metadata": {
        "id": "AmsNjgKSqXO9",
        "colab_type": "code",
        "colab": {
          "base_uri": "https://localhost:8080/",
          "height": 230
        },
        "outputId": "b6c405ae-f303-4a68-921a-9052d5fd4b70"
      },
      "source": [
        "series.tail(10)"
      ],
      "execution_count": 9,
      "outputs": [
        {
          "output_type": "execute_result",
          "data": {
            "text/plain": [
              "date\n",
              "1959-12-22    39\n",
              "1959-12-23    40\n",
              "1959-12-24    38\n",
              "1959-12-25    44\n",
              "1959-12-26    34\n",
              "1959-12-27    37\n",
              "1959-12-28    52\n",
              "1959-12-29    48\n",
              "1959-12-30    55\n",
              "1959-12-31    50\n",
              "Name: births, dtype: int64"
            ]
          },
          "metadata": {
            "tags": []
          },
          "execution_count": 9
        }
      ]
    },
    {
      "cell_type": "markdown",
      "metadata": {
        "id": "zHfXLReGqltR",
        "colab_type": "text"
      },
      "source": [
        "### Number of Observations"
      ]
    },
    {
      "cell_type": "markdown",
      "metadata": {
        "id": "pJSCz-F6qmha",
        "colab_type": "text"
      },
      "source": [
        "Another quick check to perform on your data is the number of loaded observations. This can help flush out issues with column headers not being handled as intended, and to get an idea on\n",
        "how to effectively divide up data later for use with supervised learning algorithms. \n",
        "\n",
        "You can get the dimensionality of your Series using the size parameter."
      ]
    },
    {
      "cell_type": "code",
      "metadata": {
        "id": "bmOUhSOfqiiz",
        "colab_type": "code",
        "colab": {
          "base_uri": "https://localhost:8080/",
          "height": 35
        },
        "outputId": "42c07349-9b16-4685-8080-1cb19e40a529"
      },
      "source": [
        "# summarize the dimensions of a time series\n",
        "series.size"
      ],
      "execution_count": 10,
      "outputs": [
        {
          "output_type": "execute_result",
          "data": {
            "text/plain": [
              "365"
            ]
          },
          "metadata": {
            "tags": []
          },
          "execution_count": 10
        }
      ]
    },
    {
      "cell_type": "markdown",
      "metadata": {
        "id": "O4OQ8eb-r8eA",
        "colab_type": "text"
      },
      "source": [
        "### Querying By Time"
      ]
    },
    {
      "cell_type": "markdown",
      "metadata": {
        "id": "tK0sssMgr9Xm",
        "colab_type": "text"
      },
      "source": [
        "You can slice, dice, and query your series using the time index.\n",
        "\n",
        "This type of index-based querying can help to prepare summary statistics and plots while exploring the dataset."
      ]
    },
    {
      "cell_type": "code",
      "metadata": {
        "id": "6PM3u7uOr4yp",
        "colab_type": "code",
        "colab": {
          "base_uri": "https://localhost:8080/",
          "height": 604
        },
        "outputId": "a3b5153b-a6d6-468a-ef63-8acabf73fa1f"
      },
      "source": [
        "# access all observations in January\n",
        "series['1959-01']"
      ],
      "execution_count": 11,
      "outputs": [
        {
          "output_type": "execute_result",
          "data": {
            "text/plain": [
              "date\n",
              "1959-01-01    35\n",
              "1959-01-02    32\n",
              "1959-01-03    30\n",
              "1959-01-04    31\n",
              "1959-01-05    44\n",
              "1959-01-06    29\n",
              "1959-01-07    45\n",
              "1959-01-08    43\n",
              "1959-01-09    38\n",
              "1959-01-10    27\n",
              "1959-01-11    38\n",
              "1959-01-12    33\n",
              "1959-01-13    55\n",
              "1959-01-14    47\n",
              "1959-01-15    45\n",
              "1959-01-16    37\n",
              "1959-01-17    50\n",
              "1959-01-18    43\n",
              "1959-01-19    41\n",
              "1959-01-20    52\n",
              "1959-01-21    34\n",
              "1959-01-22    53\n",
              "1959-01-23    39\n",
              "1959-01-24    32\n",
              "1959-01-25    37\n",
              "1959-01-26    43\n",
              "1959-01-27    39\n",
              "1959-01-28    35\n",
              "1959-01-29    44\n",
              "1959-01-30    38\n",
              "1959-01-31    24\n",
              "Name: births, dtype: int64"
            ]
          },
          "metadata": {
            "tags": []
          },
          "execution_count": 11
        }
      ]
    },
    {
      "cell_type": "markdown",
      "metadata": {
        "id": "6IvfQuYvsYNe",
        "colab_type": "text"
      },
      "source": [
        "### Descriptive Statistics"
      ]
    },
    {
      "cell_type": "markdown",
      "metadata": {
        "id": "2pYQk362sayL",
        "colab_type": "text"
      },
      "source": [
        "Calculating descriptive statistics on your time series can help get an idea of the distribution and spread of values. \n",
        "\n",
        "This may help with ideas of data scaling and even data cleaning that you can perform later as part of preparing your dataset for modeling. \n",
        "\n",
        "The describe() function creates a 7 number summary of the loaded time series including mean, standard deviation, median, minimum, and maximum of the observations."
      ]
    },
    {
      "cell_type": "code",
      "metadata": {
        "id": "9anFEyzLsMxz",
        "colab_type": "code",
        "colab": {
          "base_uri": "https://localhost:8080/",
          "height": 177
        },
        "outputId": "79d96e15-0964-410a-f2e1-9846b38a00e2"
      },
      "source": [
        "# calculate descriptive statistics\n",
        "series.describe()"
      ],
      "execution_count": 12,
      "outputs": [
        {
          "output_type": "execute_result",
          "data": {
            "text/plain": [
              "count    365.000000\n",
              "mean      41.980822\n",
              "std        7.348257\n",
              "min       23.000000\n",
              "25%       37.000000\n",
              "50%       42.000000\n",
              "75%       46.000000\n",
              "max       73.000000\n",
              "Name: births, dtype: float64"
            ]
          },
          "metadata": {
            "tags": []
          },
          "execution_count": 12
        }
      ]
    }
  ]
}