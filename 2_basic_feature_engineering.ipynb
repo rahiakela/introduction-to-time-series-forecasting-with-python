{
  "nbformat": 4,
  "nbformat_minor": 0,
  "metadata": {
    "colab": {
      "name": "2-basic-feature-engineering.ipynb",
      "provenance": [],
      "toc_visible": true,
      "authorship_tag": "ABX9TyNDFiFqHKoNpd4w1G4cNdsB",
      "include_colab_link": true
    },
    "kernelspec": {
      "name": "python3",
      "display_name": "Python 3"
    }
  },
  "cells": [
    {
      "cell_type": "markdown",
      "metadata": {
        "id": "view-in-github",
        "colab_type": "text"
      },
      "source": [
        "<a href=\"https://colab.research.google.com/github/rahiakela/introduction-to-time-series-forecasting-with-python/blob/part-1-data-preparation/2_basic_feature_engineering.ipynb\" target=\"_parent\"><img src=\"https://colab.research.google.com/assets/colab-badge.svg\" alt=\"Open In Colab\"/></a>"
      ]
    },
    {
      "cell_type": "markdown",
      "metadata": {
        "id": "0bXpU2vK9GLh",
        "colab_type": "text"
      },
      "source": [
        "# Basic Feature Engineering"
      ]
    },
    {
      "cell_type": "markdown",
      "metadata": {
        "id": "ilkt1qRx9HCs",
        "colab_type": "text"
      },
      "source": [
        "Time Series data must be re-framed as a supervised learning dataset before we can start using machine learning algorithms. There is no concept of input and output features in time series.\n",
        "\n",
        "Instead, we must choose the variable to be predicted and use feature engineering to construct all of the inputs that will be used to make predictions for future time steps."
      ]
    },
    {
      "cell_type": "markdown",
      "metadata": {
        "id": "V1JDGg2_9bnC",
        "colab_type": "text"
      },
      "source": [
        "## Feature Engineering for Time Series"
      ]
    },
    {
      "cell_type": "markdown",
      "metadata": {
        "id": "TsRWob6M9ci_",
        "colab_type": "text"
      },
      "source": [
        "A time series dataset must be transformed to be modeled as a supervised learning problem.\n",
        "\n",
        "That is something that looks like:\n",
        "\n",
        "```python\n",
        "time 1, value 1\n",
        "time 2, value 2\n",
        "time 3, value 3\n",
        "```\n",
        "\n",
        "To something that looks like:\n",
        "\n",
        "```python\n",
        "input 1, output 1\n",
        "input 2, output 2\n",
        "input 3, output 3\n",
        "```\n",
        "\n",
        "So that we can train a supervised learning algorithm. Input variables are also called features in the field of machine learning, and the task before us is to create or invent new input features from our time series dataset. Ideally, we only want input features that best help the learning methods model the relationship between the inputs (X) and the outputs (y) that we would like\n",
        "to predict.\n",
        "\n",
        "We will look at three classes of features that we can create from our\n",
        "time series dataset:\n",
        "\n",
        "* **Date Time Features**: these are components of the time step itself for each observation.\n",
        "* **Lag Features**: these are values at prior time steps.\n",
        "* **Window Features**: these are a summary of values over a fixed window of prior time steps."
      ]
    },
    {
      "cell_type": "markdown",
      "metadata": {
        "id": "RR0l50ko-JBG",
        "colab_type": "text"
      },
      "source": [
        "## Goal of Feature Engineering"
      ]
    },
    {
      "cell_type": "markdown",
      "metadata": {
        "id": "8-ndveE--J-k",
        "colab_type": "text"
      },
      "source": [
        "The goal of feature engineering is to provide strong and ideally simple relationships between new input features and the output feature for the supervised learning algorithm to model. In effect, we are moving complexity.\n",
        "\n",
        "Complexity exists in the relationships between the input and output data. In the case of time series, there is no concept of input and output variables; we must invent these too and frame the supervised learning problem from scratch.\n",
        "\n",
        "The difficulty is that we do not know the underlying inherent functional relationship between inputs and outputs that we're trying to expose. If we did know, we probably would not need machine learning. Instead, the only feedback we have is the performance of models developed on the supervised learning datasets or views of the problem we create. \n",
        "\n",
        "In effect, the best default strategy is to use all the knowledge available to create many good datasets from your time series dataset and use model performance (and other project requirements) to help determine what good features and good views of your problem happen to be.\n",
        "\n",
        "For clarity, we will focus on a univariate (one variable) time series dataset in the examples, but these methods are just as applicable to multivariate time series problems."
      ]
    },
    {
      "cell_type": "markdown",
      "metadata": {
        "id": "5rPIl38AArtZ",
        "colab_type": "text"
      },
      "source": [
        "## Minimum Daily Temperatures Dataset"
      ]
    },
    {
      "cell_type": "markdown",
      "metadata": {
        "id": "KGvBDAjoAuQY",
        "colab_type": "text"
      },
      "source": [
        "This dataset describes the minimum daily temperatures over 10 years (1981-1990) in the city Melbourne, Australia. The units are in degrees Celsius and there are 3650 observations. "
      ]
    },
    {
      "cell_type": "code",
      "metadata": {
        "id": "yactGEJ5BCzS",
        "colab_type": "code",
        "colab": {
          "base_uri": "https://localhost:8080/",
          "height": 133
        },
        "outputId": "c7fef5a6-a201-456c-8d83-9f23db8bb380"
      },
      "source": [
        "import pandas as pd\n",
        "import numpy as np\n",
        "from pandas import Series\n",
        "from pandas import DataFrame\n",
        "\n",
        "series = pd.read_csv('daily-minimum-temperatures-in-me.csv', header=0, parse_dates=[0], index_col=0, squeeze=True)\n",
        "series.head()"
      ],
      "execution_count": 3,
      "outputs": [
        {
          "output_type": "execute_result",
          "data": {
            "text/plain": [
              "Date\n",
              "1981-01-01    20.7\n",
              "1981-01-02    17.9\n",
              "1981-01-03    18.8\n",
              "1981-01-04    14.6\n",
              "1981-01-05    15.8\n",
              "Name: Daily minimum temperatures in Melbourne, Australia, 1981-1990, dtype: object"
            ]
          },
          "metadata": {
            "tags": []
          },
          "execution_count": 3
        }
      ]
    },
    {
      "cell_type": "code",
      "metadata": {
        "id": "IgyoCgj8DIoA",
        "colab_type": "code",
        "colab": {
          "base_uri": "https://localhost:8080/",
          "height": 117
        },
        "outputId": "46927421-addc-4221-d0cc-6ebb2966b7ed"
      },
      "source": [
        "dataframe = DataFrame()\n",
        "dataframe['month'] = [series.index[i].month for i in range(len(series))]\n",
        "dataframe['day'] = [series.index[i].day for i in range(len(series))]\n",
        "dataframe['temperature'] = [series.index[i] for i in range(len(series))]\n",
        "print(dataframe.head(5))"
      ],
      "execution_count": 4,
      "outputs": [
        {
          "output_type": "stream",
          "text": [
            "   month  day temperature\n",
            "0      1    1  1981-01-01\n",
            "1      1    2  1981-01-02\n",
            "2      1    3  1981-01-03\n",
            "3      1    4  1981-01-04\n",
            "4      1    5  1981-01-05\n"
          ],
          "name": "stdout"
        }
      ]
    },
    {
      "cell_type": "markdown",
      "metadata": {
        "id": "3EXZp-c4H_Lm",
        "colab_type": "text"
      },
      "source": [
        "Using just the month and day information alone to predict temperature is not sophisticated and will likely result in a poor model. Nevertheless, this information coupled with additional engineered features may ultimately result in a better model. You may enumerate all the properties of a time-stamp and consider what might be useful for your problem, such as:\n",
        "\n",
        "* Minutes elapsed for the day.\n",
        "* Hour of day.\n",
        "* Business hours or not.\n",
        "* Weekend or not.\n",
        "* Season of the year.\n",
        "* Business quarter of the year.\n",
        "* Daylight savings or not.\n",
        "* Public holiday or not.\n",
        "* Leap year or not.\n",
        "\n",
        "You can use binary ag features as well, like whether or not the observation was recorded on a public holiday. In the case of the minimum temperature dataset, maybe the season would be more relevant. It is creating domain-specific features like this that are more likely to add value to\n",
        "your model. Date-time based features are a good start, but it is often a lot more useful to include the values at previous time steps."
      ]
    },
    {
      "cell_type": "markdown",
      "metadata": {
        "id": "foVnlQu3IqGR",
        "colab_type": "text"
      },
      "source": [
        "## Lag Features"
      ]
    },
    {
      "cell_type": "markdown",
      "metadata": {
        "id": "HKrgl1nPIvSV",
        "colab_type": "text"
      },
      "source": [
        ""
      ]
    },
    {
      "cell_type": "code",
      "metadata": {
        "id": "w25DqppqHn-a",
        "colab_type": "code",
        "colab": {}
      },
      "source": [
        ""
      ],
      "execution_count": 0,
      "outputs": []
    }
  ]
}